{
 "cells": [
  {
   "cell_type": "code",
   "execution_count": 1,
   "id": "b03f5945",
   "metadata": {
    "execution": {
     "iopub.execute_input": "2022-10-30T14:35:59.226933Z",
     "iopub.status.busy": "2022-10-30T14:35:59.226306Z",
     "iopub.status.idle": "2022-10-30T14:35:59.239118Z",
     "shell.execute_reply": "2022-10-30T14:35:59.238060Z"
    },
    "id": "C5ZlysAiToru",
    "papermill": {
     "duration": 0.030854,
     "end_time": "2022-10-30T14:35:59.241584",
     "exception": false,
     "start_time": "2022-10-30T14:35:59.210730",
     "status": "completed"
    },
    "tags": []
   },
   "outputs": [],
   "source": [
    "import numpy as np \n",
    "import pandas as pd \n",
    "from sklearn.impute import SimpleImputer\n",
    "from sklearn.compose import ColumnTransformer\n",
    "from sklearn.preprocessing import OrdinalEncoder\n",
    "from sklearn.ensemble import RandomForestClassifier\n",
    "from sklearn.ensemble import AdaBoostClassifier\n",
    "from xgboost import XGBClassifier\n",
    "from catboost import CatBoostClassifier\n",
    "from sklearn.metrics import accuracy_score\n",
    "from sklearn.feature_selection import SequentialFeatureSelector\n",
    "import seaborn as sns\n",
    "import matplotlib.pyplot as plt\n",
    "%matplotlib inline"
   ]
  },
  {
   "cell_type": "code",
   "execution_count": 2,
   "id": "da4eff4e",
   "metadata": {
    "execution": {
     "iopub.execute_input": "2022-10-30T14:35:59.308651Z",
     "iopub.status.busy": "2022-10-30T14:35:59.307729Z",
     "iopub.status.idle": "2022-10-30T14:35:59.436036Z",
     "shell.execute_reply": "2022-10-30T14:35:59.434747Z"
    },
    "id": "cawwEFL8Torx",
    "outputId": "9d9bd4f2-3b6b-4946-b855-f650cad885ce",
    "papermill": {
     "duration": 0.147448,
     "end_time": "2022-10-30T14:35:59.439526",
     "exception": false,
     "start_time": "2022-10-30T14:35:59.292078",
     "status": "completed"
    },
    "tags": []
   },
   "outputs": [
    {
     "name": "stdout",
     "output_type": "stream",
     "text": [
      "Train shape: (8693, 13)\n",
      "Test shape: (4277, 12)\n"
     ]
    },
    {
     "data": {
      "text/html": [
       "<div>\n",
       "<style scoped>\n",
       "    .dataframe tbody tr th:only-of-type {\n",
       "        vertical-align: middle;\n",
       "    }\n",
       "\n",
       "    .dataframe tbody tr th {\n",
       "        vertical-align: top;\n",
       "    }\n",
       "\n",
       "    .dataframe thead th {\n",
       "        text-align: right;\n",
       "    }\n",
       "</style>\n",
       "<table border=\"1\" class=\"dataframe\">\n",
       "  <thead>\n",
       "    <tr style=\"text-align: right;\">\n",
       "      <th></th>\n",
       "      <th>HomePlanet</th>\n",
       "      <th>CryoSleep</th>\n",
       "      <th>Cabin</th>\n",
       "      <th>Destination</th>\n",
       "      <th>Age</th>\n",
       "      <th>VIP</th>\n",
       "      <th>RoomService</th>\n",
       "      <th>FoodCourt</th>\n",
       "      <th>ShoppingMall</th>\n",
       "      <th>Spa</th>\n",
       "      <th>VRDeck</th>\n",
       "      <th>Name</th>\n",
       "      <th>Transported</th>\n",
       "    </tr>\n",
       "    <tr>\n",
       "      <th>PassengerId</th>\n",
       "      <th></th>\n",
       "      <th></th>\n",
       "      <th></th>\n",
       "      <th></th>\n",
       "      <th></th>\n",
       "      <th></th>\n",
       "      <th></th>\n",
       "      <th></th>\n",
       "      <th></th>\n",
       "      <th></th>\n",
       "      <th></th>\n",
       "      <th></th>\n",
       "      <th></th>\n",
       "    </tr>\n",
       "  </thead>\n",
       "  <tbody>\n",
       "    <tr>\n",
       "      <th>0001_01</th>\n",
       "      <td>Europa</td>\n",
       "      <td>False</td>\n",
       "      <td>B/0/P</td>\n",
       "      <td>TRAPPIST-1e</td>\n",
       "      <td>39.0</td>\n",
       "      <td>False</td>\n",
       "      <td>0.0</td>\n",
       "      <td>0.0</td>\n",
       "      <td>0.0</td>\n",
       "      <td>0.0</td>\n",
       "      <td>0.0</td>\n",
       "      <td>Maham Ofracculy</td>\n",
       "      <td>False</td>\n",
       "    </tr>\n",
       "    <tr>\n",
       "      <th>0002_01</th>\n",
       "      <td>Earth</td>\n",
       "      <td>False</td>\n",
       "      <td>F/0/S</td>\n",
       "      <td>TRAPPIST-1e</td>\n",
       "      <td>24.0</td>\n",
       "      <td>False</td>\n",
       "      <td>109.0</td>\n",
       "      <td>9.0</td>\n",
       "      <td>25.0</td>\n",
       "      <td>549.0</td>\n",
       "      <td>44.0</td>\n",
       "      <td>Juanna Vines</td>\n",
       "      <td>True</td>\n",
       "    </tr>\n",
       "    <tr>\n",
       "      <th>0003_01</th>\n",
       "      <td>Europa</td>\n",
       "      <td>False</td>\n",
       "      <td>A/0/S</td>\n",
       "      <td>TRAPPIST-1e</td>\n",
       "      <td>58.0</td>\n",
       "      <td>True</td>\n",
       "      <td>43.0</td>\n",
       "      <td>3576.0</td>\n",
       "      <td>0.0</td>\n",
       "      <td>6715.0</td>\n",
       "      <td>49.0</td>\n",
       "      <td>Altark Susent</td>\n",
       "      <td>False</td>\n",
       "    </tr>\n",
       "    <tr>\n",
       "      <th>0003_02</th>\n",
       "      <td>Europa</td>\n",
       "      <td>False</td>\n",
       "      <td>A/0/S</td>\n",
       "      <td>TRAPPIST-1e</td>\n",
       "      <td>33.0</td>\n",
       "      <td>False</td>\n",
       "      <td>0.0</td>\n",
       "      <td>1283.0</td>\n",
       "      <td>371.0</td>\n",
       "      <td>3329.0</td>\n",
       "      <td>193.0</td>\n",
       "      <td>Solam Susent</td>\n",
       "      <td>False</td>\n",
       "    </tr>\n",
       "    <tr>\n",
       "      <th>0004_01</th>\n",
       "      <td>Earth</td>\n",
       "      <td>False</td>\n",
       "      <td>F/1/S</td>\n",
       "      <td>TRAPPIST-1e</td>\n",
       "      <td>16.0</td>\n",
       "      <td>False</td>\n",
       "      <td>303.0</td>\n",
       "      <td>70.0</td>\n",
       "      <td>151.0</td>\n",
       "      <td>565.0</td>\n",
       "      <td>2.0</td>\n",
       "      <td>Willy Santantines</td>\n",
       "      <td>True</td>\n",
       "    </tr>\n",
       "  </tbody>\n",
       "</table>\n",
       "</div>"
      ],
      "text/plain": [
       "            HomePlanet CryoSleep  Cabin  Destination   Age    VIP  \\\n",
       "PassengerId                                                         \n",
       "0001_01         Europa     False  B/0/P  TRAPPIST-1e  39.0  False   \n",
       "0002_01          Earth     False  F/0/S  TRAPPIST-1e  24.0  False   \n",
       "0003_01         Europa     False  A/0/S  TRAPPIST-1e  58.0   True   \n",
       "0003_02         Europa     False  A/0/S  TRAPPIST-1e  33.0  False   \n",
       "0004_01          Earth     False  F/1/S  TRAPPIST-1e  16.0  False   \n",
       "\n",
       "             RoomService  FoodCourt  ShoppingMall     Spa  VRDeck  \\\n",
       "PassengerId                                                         \n",
       "0001_01              0.0        0.0           0.0     0.0     0.0   \n",
       "0002_01            109.0        9.0          25.0   549.0    44.0   \n",
       "0003_01             43.0     3576.0           0.0  6715.0    49.0   \n",
       "0003_02              0.0     1283.0         371.0  3329.0   193.0   \n",
       "0004_01            303.0       70.0         151.0   565.0     2.0   \n",
       "\n",
       "                          Name  Transported  \n",
       "PassengerId                                  \n",
       "0001_01        Maham Ofracculy        False  \n",
       "0002_01           Juanna Vines         True  \n",
       "0003_01          Altark Susent        False  \n",
       "0003_02           Solam Susent        False  \n",
       "0004_01      Willy Santantines         True  "
      ]
     },
     "execution_count": 2,
     "metadata": {},
     "output_type": "execute_result"
    }
   ],
   "source": [
    "train_data = pd.read_csv('train.csv', index_col='PassengerId')\n",
    "test_data = pd.read_csv('test.csv', index_col='PassengerId')\n",
    "\n",
    "# Shape and preview\n",
    "print('Train shape:', train_data.shape)\n",
    "print('Test shape:', test_data.shape)\n",
    "train_data.head()"
   ]
  },
  {
   "cell_type": "code",
   "execution_count": 3,
   "id": "d2e6a460",
   "metadata": {
    "execution": {
     "iopub.execute_input": "2022-10-30T14:35:59.523847Z",
     "iopub.status.busy": "2022-10-30T14:35:59.523283Z",
     "iopub.status.idle": "2022-10-30T14:35:59.535238Z",
     "shell.execute_reply": "2022-10-30T14:35:59.533582Z"
    },
    "id": "JkC_6i9X2qb3",
    "papermill": {
     "duration": 0.029633,
     "end_time": "2022-10-30T14:35:59.537897",
     "exception": false,
     "start_time": "2022-10-30T14:35:59.508264",
     "status": "completed"
    },
    "tags": []
   },
   "outputs": [],
   "source": [
    "train_data.drop('Name', axis=1, inplace=True)\n",
    "test_data.drop('Name', axis=1, inplace=True)"
   ]
  },
  {
   "cell_type": "code",
   "execution_count": 4,
   "id": "ca408955",
   "metadata": {
    "execution": {
     "iopub.execute_input": "2022-10-30T14:35:59.595076Z",
     "iopub.status.busy": "2022-10-30T14:35:59.594687Z",
     "iopub.status.idle": "2022-10-30T14:35:59.609153Z",
     "shell.execute_reply": "2022-10-30T14:35:59.607864Z"
    },
    "id": "BdTlm-HT25QF",
    "papermill": {
     "duration": 0.032747,
     "end_time": "2022-10-30T14:35:59.611913",
     "exception": false,
     "start_time": "2022-10-30T14:35:59.579166",
     "status": "completed"
    },
    "tags": []
   },
   "outputs": [],
   "source": [
    "train_data['Transported'].replace(False, 0, inplace=True)\n",
    "train_data['Transported'].replace(True, 1, inplace=True)"
   ]
  },
  {
   "cell_type": "code",
   "execution_count": 5,
   "id": "20dd48c2",
   "metadata": {
    "execution": {
     "iopub.execute_input": "2022-10-30T14:35:59.668867Z",
     "iopub.status.busy": "2022-10-30T14:35:59.668450Z",
     "iopub.status.idle": "2022-10-30T14:35:59.707286Z",
     "shell.execute_reply": "2022-10-30T14:35:59.706041Z"
    },
    "id": "MPdaaNYQ3CSH",
    "papermill": {
     "duration": 0.057244,
     "end_time": "2022-10-30T14:35:59.710072",
     "exception": false,
     "start_time": "2022-10-30T14:35:59.652828",
     "status": "completed"
    },
    "tags": []
   },
   "outputs": [],
   "source": [
    "train_data[['deck','num', 'side']] = train_data['Cabin'].str.split('/', expand=True)\n",
    "test_data[['deck','num', 'side']] = test_data['Cabin'].str.split('/', expand=True)\n",
    "\n",
    "train_data.drop('Cabin', axis=1, inplace=True)\n",
    "test_data.drop('Cabin', axis=1, inplace=True)"
   ]
  },
  {
   "cell_type": "code",
   "execution_count": 6,
   "id": "988bfe80",
   "metadata": {
    "execution": {
     "iopub.execute_input": "2022-10-30T14:35:59.767677Z",
     "iopub.status.busy": "2022-10-30T14:35:59.767211Z",
     "iopub.status.idle": "2022-10-30T14:35:59.778077Z",
     "shell.execute_reply": "2022-10-30T14:35:59.776674Z"
    },
    "id": "qnHYZPG13CXN",
    "papermill": {
     "duration": 0.029242,
     "end_time": "2022-10-30T14:35:59.781132",
     "exception": false,
     "start_time": "2022-10-30T14:35:59.751890",
     "status": "completed"
    },
    "tags": []
   },
   "outputs": [],
   "source": [
    "sum_col = ['RoomService', 'FoodCourt', 'ShoppingMall', 'Spa', 'VRDeck']\n",
    "\n",
    "train_data['spending'] = train_data[sum_col].sum(axis=1)\n",
    "test_data['spending'] = test_data[sum_col].sum(axis=1)"
   ]
  },
  {
   "cell_type": "code",
   "execution_count": 7,
   "id": "e4790538",
   "metadata": {
    "execution": {
     "iopub.execute_input": "2022-10-30T14:35:59.839534Z",
     "iopub.status.busy": "2022-10-30T14:35:59.839073Z",
     "iopub.status.idle": "2022-10-30T14:35:59.872722Z",
     "shell.execute_reply": "2022-10-30T14:35:59.871524Z"
    },
    "id": "9HmLOevy3Cbn",
    "outputId": "7604d6e8-cdac-4480-bd7e-78b809b9585c",
    "papermill": {
     "duration": 0.051585,
     "end_time": "2022-10-30T14:35:59.875174",
     "exception": false,
     "start_time": "2022-10-30T14:35:59.823589",
     "status": "completed"
    },
    "tags": []
   },
   "outputs": [
    {
     "data": {
      "text/html": [
       "<div>\n",
       "<style scoped>\n",
       "    .dataframe tbody tr th:only-of-type {\n",
       "        vertical-align: middle;\n",
       "    }\n",
       "\n",
       "    .dataframe tbody tr th {\n",
       "        vertical-align: top;\n",
       "    }\n",
       "\n",
       "    .dataframe thead th {\n",
       "        text-align: right;\n",
       "    }\n",
       "</style>\n",
       "<table border=\"1\" class=\"dataframe\">\n",
       "  <thead>\n",
       "    <tr style=\"text-align: right;\">\n",
       "      <th></th>\n",
       "      <th>HomePlanet</th>\n",
       "      <th>CryoSleep</th>\n",
       "      <th>Destination</th>\n",
       "      <th>Age</th>\n",
       "      <th>VIP</th>\n",
       "      <th>RoomService</th>\n",
       "      <th>FoodCourt</th>\n",
       "      <th>ShoppingMall</th>\n",
       "      <th>Spa</th>\n",
       "      <th>VRDeck</th>\n",
       "      <th>Transported</th>\n",
       "      <th>deck</th>\n",
       "      <th>num</th>\n",
       "      <th>side</th>\n",
       "      <th>spending</th>\n",
       "    </tr>\n",
       "    <tr>\n",
       "      <th>PassengerId</th>\n",
       "      <th></th>\n",
       "      <th></th>\n",
       "      <th></th>\n",
       "      <th></th>\n",
       "      <th></th>\n",
       "      <th></th>\n",
       "      <th></th>\n",
       "      <th></th>\n",
       "      <th></th>\n",
       "      <th></th>\n",
       "      <th></th>\n",
       "      <th></th>\n",
       "      <th></th>\n",
       "      <th></th>\n",
       "      <th></th>\n",
       "    </tr>\n",
       "  </thead>\n",
       "  <tbody>\n",
       "    <tr>\n",
       "      <th>0001_01</th>\n",
       "      <td>Europa</td>\n",
       "      <td>False</td>\n",
       "      <td>TRAPPIST-1e</td>\n",
       "      <td>39.0</td>\n",
       "      <td>False</td>\n",
       "      <td>0.0</td>\n",
       "      <td>0.0</td>\n",
       "      <td>0.0</td>\n",
       "      <td>0.0</td>\n",
       "      <td>0.0</td>\n",
       "      <td>0</td>\n",
       "      <td>B</td>\n",
       "      <td>0</td>\n",
       "      <td>P</td>\n",
       "      <td>0.0</td>\n",
       "    </tr>\n",
       "    <tr>\n",
       "      <th>0002_01</th>\n",
       "      <td>Earth</td>\n",
       "      <td>False</td>\n",
       "      <td>TRAPPIST-1e</td>\n",
       "      <td>24.0</td>\n",
       "      <td>False</td>\n",
       "      <td>109.0</td>\n",
       "      <td>9.0</td>\n",
       "      <td>25.0</td>\n",
       "      <td>549.0</td>\n",
       "      <td>44.0</td>\n",
       "      <td>1</td>\n",
       "      <td>F</td>\n",
       "      <td>0</td>\n",
       "      <td>S</td>\n",
       "      <td>736.0</td>\n",
       "    </tr>\n",
       "    <tr>\n",
       "      <th>0003_01</th>\n",
       "      <td>Europa</td>\n",
       "      <td>False</td>\n",
       "      <td>TRAPPIST-1e</td>\n",
       "      <td>58.0</td>\n",
       "      <td>True</td>\n",
       "      <td>43.0</td>\n",
       "      <td>3576.0</td>\n",
       "      <td>0.0</td>\n",
       "      <td>6715.0</td>\n",
       "      <td>49.0</td>\n",
       "      <td>0</td>\n",
       "      <td>A</td>\n",
       "      <td>0</td>\n",
       "      <td>S</td>\n",
       "      <td>10383.0</td>\n",
       "    </tr>\n",
       "    <tr>\n",
       "      <th>0003_02</th>\n",
       "      <td>Europa</td>\n",
       "      <td>False</td>\n",
       "      <td>TRAPPIST-1e</td>\n",
       "      <td>33.0</td>\n",
       "      <td>False</td>\n",
       "      <td>0.0</td>\n",
       "      <td>1283.0</td>\n",
       "      <td>371.0</td>\n",
       "      <td>3329.0</td>\n",
       "      <td>193.0</td>\n",
       "      <td>0</td>\n",
       "      <td>A</td>\n",
       "      <td>0</td>\n",
       "      <td>S</td>\n",
       "      <td>5176.0</td>\n",
       "    </tr>\n",
       "    <tr>\n",
       "      <th>0004_01</th>\n",
       "      <td>Earth</td>\n",
       "      <td>False</td>\n",
       "      <td>TRAPPIST-1e</td>\n",
       "      <td>16.0</td>\n",
       "      <td>False</td>\n",
       "      <td>303.0</td>\n",
       "      <td>70.0</td>\n",
       "      <td>151.0</td>\n",
       "      <td>565.0</td>\n",
       "      <td>2.0</td>\n",
       "      <td>1</td>\n",
       "      <td>F</td>\n",
       "      <td>1</td>\n",
       "      <td>S</td>\n",
       "      <td>1091.0</td>\n",
       "    </tr>\n",
       "    <tr>\n",
       "      <th>...</th>\n",
       "      <td>...</td>\n",
       "      <td>...</td>\n",
       "      <td>...</td>\n",
       "      <td>...</td>\n",
       "      <td>...</td>\n",
       "      <td>...</td>\n",
       "      <td>...</td>\n",
       "      <td>...</td>\n",
       "      <td>...</td>\n",
       "      <td>...</td>\n",
       "      <td>...</td>\n",
       "      <td>...</td>\n",
       "      <td>...</td>\n",
       "      <td>...</td>\n",
       "      <td>...</td>\n",
       "    </tr>\n",
       "    <tr>\n",
       "      <th>9276_01</th>\n",
       "      <td>Europa</td>\n",
       "      <td>False</td>\n",
       "      <td>55 Cancri e</td>\n",
       "      <td>41.0</td>\n",
       "      <td>True</td>\n",
       "      <td>0.0</td>\n",
       "      <td>6819.0</td>\n",
       "      <td>0.0</td>\n",
       "      <td>1643.0</td>\n",
       "      <td>74.0</td>\n",
       "      <td>0</td>\n",
       "      <td>A</td>\n",
       "      <td>98</td>\n",
       "      <td>P</td>\n",
       "      <td>8536.0</td>\n",
       "    </tr>\n",
       "    <tr>\n",
       "      <th>9278_01</th>\n",
       "      <td>Earth</td>\n",
       "      <td>True</td>\n",
       "      <td>PSO J318.5-22</td>\n",
       "      <td>18.0</td>\n",
       "      <td>False</td>\n",
       "      <td>0.0</td>\n",
       "      <td>0.0</td>\n",
       "      <td>0.0</td>\n",
       "      <td>0.0</td>\n",
       "      <td>0.0</td>\n",
       "      <td>0</td>\n",
       "      <td>G</td>\n",
       "      <td>1499</td>\n",
       "      <td>S</td>\n",
       "      <td>0.0</td>\n",
       "    </tr>\n",
       "    <tr>\n",
       "      <th>9279_01</th>\n",
       "      <td>Earth</td>\n",
       "      <td>False</td>\n",
       "      <td>TRAPPIST-1e</td>\n",
       "      <td>26.0</td>\n",
       "      <td>False</td>\n",
       "      <td>0.0</td>\n",
       "      <td>0.0</td>\n",
       "      <td>1872.0</td>\n",
       "      <td>1.0</td>\n",
       "      <td>0.0</td>\n",
       "      <td>1</td>\n",
       "      <td>G</td>\n",
       "      <td>1500</td>\n",
       "      <td>S</td>\n",
       "      <td>1873.0</td>\n",
       "    </tr>\n",
       "    <tr>\n",
       "      <th>9280_01</th>\n",
       "      <td>Europa</td>\n",
       "      <td>False</td>\n",
       "      <td>55 Cancri e</td>\n",
       "      <td>32.0</td>\n",
       "      <td>False</td>\n",
       "      <td>0.0</td>\n",
       "      <td>1049.0</td>\n",
       "      <td>0.0</td>\n",
       "      <td>353.0</td>\n",
       "      <td>3235.0</td>\n",
       "      <td>0</td>\n",
       "      <td>E</td>\n",
       "      <td>608</td>\n",
       "      <td>S</td>\n",
       "      <td>4637.0</td>\n",
       "    </tr>\n",
       "    <tr>\n",
       "      <th>9280_02</th>\n",
       "      <td>Europa</td>\n",
       "      <td>False</td>\n",
       "      <td>TRAPPIST-1e</td>\n",
       "      <td>44.0</td>\n",
       "      <td>False</td>\n",
       "      <td>126.0</td>\n",
       "      <td>4688.0</td>\n",
       "      <td>0.0</td>\n",
       "      <td>0.0</td>\n",
       "      <td>12.0</td>\n",
       "      <td>1</td>\n",
       "      <td>E</td>\n",
       "      <td>608</td>\n",
       "      <td>S</td>\n",
       "      <td>4826.0</td>\n",
       "    </tr>\n",
       "  </tbody>\n",
       "</table>\n",
       "<p>8693 rows × 15 columns</p>\n",
       "</div>"
      ],
      "text/plain": [
       "            HomePlanet CryoSleep    Destination   Age    VIP  RoomService  \\\n",
       "PassengerId                                                                 \n",
       "0001_01         Europa     False    TRAPPIST-1e  39.0  False          0.0   \n",
       "0002_01          Earth     False    TRAPPIST-1e  24.0  False        109.0   \n",
       "0003_01         Europa     False    TRAPPIST-1e  58.0   True         43.0   \n",
       "0003_02         Europa     False    TRAPPIST-1e  33.0  False          0.0   \n",
       "0004_01          Earth     False    TRAPPIST-1e  16.0  False        303.0   \n",
       "...                ...       ...            ...   ...    ...          ...   \n",
       "9276_01         Europa     False    55 Cancri e  41.0   True          0.0   \n",
       "9278_01          Earth      True  PSO J318.5-22  18.0  False          0.0   \n",
       "9279_01          Earth     False    TRAPPIST-1e  26.0  False          0.0   \n",
       "9280_01         Europa     False    55 Cancri e  32.0  False          0.0   \n",
       "9280_02         Europa     False    TRAPPIST-1e  44.0  False        126.0   \n",
       "\n",
       "             FoodCourt  ShoppingMall     Spa  VRDeck  Transported deck   num  \\\n",
       "PassengerId                                                                    \n",
       "0001_01            0.0           0.0     0.0     0.0            0    B     0   \n",
       "0002_01            9.0          25.0   549.0    44.0            1    F     0   \n",
       "0003_01         3576.0           0.0  6715.0    49.0            0    A     0   \n",
       "0003_02         1283.0         371.0  3329.0   193.0            0    A     0   \n",
       "0004_01           70.0         151.0   565.0     2.0            1    F     1   \n",
       "...                ...           ...     ...     ...          ...  ...   ...   \n",
       "9276_01         6819.0           0.0  1643.0    74.0            0    A    98   \n",
       "9278_01            0.0           0.0     0.0     0.0            0    G  1499   \n",
       "9279_01            0.0        1872.0     1.0     0.0            1    G  1500   \n",
       "9280_01         1049.0           0.0   353.0  3235.0            0    E   608   \n",
       "9280_02         4688.0           0.0     0.0    12.0            1    E   608   \n",
       "\n",
       "            side  spending  \n",
       "PassengerId                 \n",
       "0001_01        P       0.0  \n",
       "0002_01        S     736.0  \n",
       "0003_01        S   10383.0  \n",
       "0003_02        S    5176.0  \n",
       "0004_01        S    1091.0  \n",
       "...          ...       ...  \n",
       "9276_01        P    8536.0  \n",
       "9278_01        S       0.0  \n",
       "9279_01        S    1873.0  \n",
       "9280_01        S    4637.0  \n",
       "9280_02        S    4826.0  \n",
       "\n",
       "[8693 rows x 15 columns]"
      ]
     },
     "execution_count": 7,
     "metadata": {},
     "output_type": "execute_result"
    }
   ],
   "source": [
    "train_data"
   ]
  },
  {
   "cell_type": "code",
   "execution_count": 8,
   "id": "ffc5c433",
   "metadata": {
    "execution": {
     "iopub.execute_input": "2022-10-30T14:35:59.908016Z",
     "iopub.status.busy": "2022-10-30T14:35:59.907595Z",
     "iopub.status.idle": "2022-10-30T14:35:59.939555Z",
     "shell.execute_reply": "2022-10-30T14:35:59.938033Z"
    },
    "id": "33Ri1Pj33Ce7",
    "outputId": "8ca72165-4bc6-4ca4-fe23-4907f07a4993",
    "papermill": {
     "duration": 0.051238,
     "end_time": "2022-10-30T14:35:59.942077",
     "exception": false,
     "start_time": "2022-10-30T14:35:59.890839",
     "status": "completed"
    },
    "scrolled": false,
    "tags": []
   },
   "outputs": [
    {
     "data": {
      "text/html": [
       "<div>\n",
       "<style scoped>\n",
       "    .dataframe tbody tr th:only-of-type {\n",
       "        vertical-align: middle;\n",
       "    }\n",
       "\n",
       "    .dataframe tbody tr th {\n",
       "        vertical-align: top;\n",
       "    }\n",
       "\n",
       "    .dataframe thead th {\n",
       "        text-align: right;\n",
       "    }\n",
       "</style>\n",
       "<table border=\"1\" class=\"dataframe\">\n",
       "  <thead>\n",
       "    <tr style=\"text-align: right;\">\n",
       "      <th></th>\n",
       "      <th>HomePlanet</th>\n",
       "      <th>CryoSleep</th>\n",
       "      <th>Destination</th>\n",
       "      <th>Age</th>\n",
       "      <th>VIP</th>\n",
       "      <th>RoomService</th>\n",
       "      <th>FoodCourt</th>\n",
       "      <th>ShoppingMall</th>\n",
       "      <th>Spa</th>\n",
       "      <th>VRDeck</th>\n",
       "      <th>deck</th>\n",
       "      <th>num</th>\n",
       "      <th>side</th>\n",
       "      <th>spending</th>\n",
       "    </tr>\n",
       "    <tr>\n",
       "      <th>PassengerId</th>\n",
       "      <th></th>\n",
       "      <th></th>\n",
       "      <th></th>\n",
       "      <th></th>\n",
       "      <th></th>\n",
       "      <th></th>\n",
       "      <th></th>\n",
       "      <th></th>\n",
       "      <th></th>\n",
       "      <th></th>\n",
       "      <th></th>\n",
       "      <th></th>\n",
       "      <th></th>\n",
       "      <th></th>\n",
       "    </tr>\n",
       "  </thead>\n",
       "  <tbody>\n",
       "    <tr>\n",
       "      <th>0013_01</th>\n",
       "      <td>Earth</td>\n",
       "      <td>True</td>\n",
       "      <td>TRAPPIST-1e</td>\n",
       "      <td>27.0</td>\n",
       "      <td>False</td>\n",
       "      <td>0.0</td>\n",
       "      <td>0.0</td>\n",
       "      <td>0.0</td>\n",
       "      <td>0.0</td>\n",
       "      <td>0.0</td>\n",
       "      <td>G</td>\n",
       "      <td>3</td>\n",
       "      <td>S</td>\n",
       "      <td>0.0</td>\n",
       "    </tr>\n",
       "    <tr>\n",
       "      <th>0018_01</th>\n",
       "      <td>Earth</td>\n",
       "      <td>False</td>\n",
       "      <td>TRAPPIST-1e</td>\n",
       "      <td>19.0</td>\n",
       "      <td>False</td>\n",
       "      <td>0.0</td>\n",
       "      <td>9.0</td>\n",
       "      <td>0.0</td>\n",
       "      <td>2823.0</td>\n",
       "      <td>0.0</td>\n",
       "      <td>F</td>\n",
       "      <td>4</td>\n",
       "      <td>S</td>\n",
       "      <td>2832.0</td>\n",
       "    </tr>\n",
       "    <tr>\n",
       "      <th>0019_01</th>\n",
       "      <td>Europa</td>\n",
       "      <td>True</td>\n",
       "      <td>55 Cancri e</td>\n",
       "      <td>31.0</td>\n",
       "      <td>False</td>\n",
       "      <td>0.0</td>\n",
       "      <td>0.0</td>\n",
       "      <td>0.0</td>\n",
       "      <td>0.0</td>\n",
       "      <td>0.0</td>\n",
       "      <td>C</td>\n",
       "      <td>0</td>\n",
       "      <td>S</td>\n",
       "      <td>0.0</td>\n",
       "    </tr>\n",
       "    <tr>\n",
       "      <th>0021_01</th>\n",
       "      <td>Europa</td>\n",
       "      <td>False</td>\n",
       "      <td>TRAPPIST-1e</td>\n",
       "      <td>38.0</td>\n",
       "      <td>False</td>\n",
       "      <td>0.0</td>\n",
       "      <td>6652.0</td>\n",
       "      <td>0.0</td>\n",
       "      <td>181.0</td>\n",
       "      <td>585.0</td>\n",
       "      <td>C</td>\n",
       "      <td>1</td>\n",
       "      <td>S</td>\n",
       "      <td>7418.0</td>\n",
       "    </tr>\n",
       "    <tr>\n",
       "      <th>0023_01</th>\n",
       "      <td>Earth</td>\n",
       "      <td>False</td>\n",
       "      <td>TRAPPIST-1e</td>\n",
       "      <td>20.0</td>\n",
       "      <td>False</td>\n",
       "      <td>10.0</td>\n",
       "      <td>0.0</td>\n",
       "      <td>635.0</td>\n",
       "      <td>0.0</td>\n",
       "      <td>0.0</td>\n",
       "      <td>F</td>\n",
       "      <td>5</td>\n",
       "      <td>S</td>\n",
       "      <td>645.0</td>\n",
       "    </tr>\n",
       "    <tr>\n",
       "      <th>...</th>\n",
       "      <td>...</td>\n",
       "      <td>...</td>\n",
       "      <td>...</td>\n",
       "      <td>...</td>\n",
       "      <td>...</td>\n",
       "      <td>...</td>\n",
       "      <td>...</td>\n",
       "      <td>...</td>\n",
       "      <td>...</td>\n",
       "      <td>...</td>\n",
       "      <td>...</td>\n",
       "      <td>...</td>\n",
       "      <td>...</td>\n",
       "      <td>...</td>\n",
       "    </tr>\n",
       "    <tr>\n",
       "      <th>9266_02</th>\n",
       "      <td>Earth</td>\n",
       "      <td>True</td>\n",
       "      <td>TRAPPIST-1e</td>\n",
       "      <td>34.0</td>\n",
       "      <td>False</td>\n",
       "      <td>0.0</td>\n",
       "      <td>0.0</td>\n",
       "      <td>0.0</td>\n",
       "      <td>0.0</td>\n",
       "      <td>0.0</td>\n",
       "      <td>G</td>\n",
       "      <td>1496</td>\n",
       "      <td>S</td>\n",
       "      <td>0.0</td>\n",
       "    </tr>\n",
       "    <tr>\n",
       "      <th>9269_01</th>\n",
       "      <td>Earth</td>\n",
       "      <td>False</td>\n",
       "      <td>TRAPPIST-1e</td>\n",
       "      <td>42.0</td>\n",
       "      <td>False</td>\n",
       "      <td>0.0</td>\n",
       "      <td>847.0</td>\n",
       "      <td>17.0</td>\n",
       "      <td>10.0</td>\n",
       "      <td>144.0</td>\n",
       "      <td>NaN</td>\n",
       "      <td>NaN</td>\n",
       "      <td>NaN</td>\n",
       "      <td>1018.0</td>\n",
       "    </tr>\n",
       "    <tr>\n",
       "      <th>9271_01</th>\n",
       "      <td>Mars</td>\n",
       "      <td>True</td>\n",
       "      <td>55 Cancri e</td>\n",
       "      <td>NaN</td>\n",
       "      <td>False</td>\n",
       "      <td>0.0</td>\n",
       "      <td>0.0</td>\n",
       "      <td>0.0</td>\n",
       "      <td>0.0</td>\n",
       "      <td>0.0</td>\n",
       "      <td>D</td>\n",
       "      <td>296</td>\n",
       "      <td>P</td>\n",
       "      <td>0.0</td>\n",
       "    </tr>\n",
       "    <tr>\n",
       "      <th>9273_01</th>\n",
       "      <td>Europa</td>\n",
       "      <td>False</td>\n",
       "      <td>NaN</td>\n",
       "      <td>NaN</td>\n",
       "      <td>False</td>\n",
       "      <td>0.0</td>\n",
       "      <td>2680.0</td>\n",
       "      <td>0.0</td>\n",
       "      <td>0.0</td>\n",
       "      <td>523.0</td>\n",
       "      <td>D</td>\n",
       "      <td>297</td>\n",
       "      <td>P</td>\n",
       "      <td>3203.0</td>\n",
       "    </tr>\n",
       "    <tr>\n",
       "      <th>9277_01</th>\n",
       "      <td>Earth</td>\n",
       "      <td>True</td>\n",
       "      <td>PSO J318.5-22</td>\n",
       "      <td>43.0</td>\n",
       "      <td>False</td>\n",
       "      <td>0.0</td>\n",
       "      <td>0.0</td>\n",
       "      <td>0.0</td>\n",
       "      <td>0.0</td>\n",
       "      <td>0.0</td>\n",
       "      <td>G</td>\n",
       "      <td>1498</td>\n",
       "      <td>S</td>\n",
       "      <td>0.0</td>\n",
       "    </tr>\n",
       "  </tbody>\n",
       "</table>\n",
       "<p>4277 rows × 14 columns</p>\n",
       "</div>"
      ],
      "text/plain": [
       "            HomePlanet CryoSleep    Destination   Age    VIP  RoomService  \\\n",
       "PassengerId                                                                 \n",
       "0013_01          Earth      True    TRAPPIST-1e  27.0  False          0.0   \n",
       "0018_01          Earth     False    TRAPPIST-1e  19.0  False          0.0   \n",
       "0019_01         Europa      True    55 Cancri e  31.0  False          0.0   \n",
       "0021_01         Europa     False    TRAPPIST-1e  38.0  False          0.0   \n",
       "0023_01          Earth     False    TRAPPIST-1e  20.0  False         10.0   \n",
       "...                ...       ...            ...   ...    ...          ...   \n",
       "9266_02          Earth      True    TRAPPIST-1e  34.0  False          0.0   \n",
       "9269_01          Earth     False    TRAPPIST-1e  42.0  False          0.0   \n",
       "9271_01           Mars      True    55 Cancri e   NaN  False          0.0   \n",
       "9273_01         Europa     False            NaN   NaN  False          0.0   \n",
       "9277_01          Earth      True  PSO J318.5-22  43.0  False          0.0   \n",
       "\n",
       "             FoodCourt  ShoppingMall     Spa  VRDeck deck   num side  spending  \n",
       "PassengerId                                                                     \n",
       "0013_01            0.0           0.0     0.0     0.0    G     3    S       0.0  \n",
       "0018_01            9.0           0.0  2823.0     0.0    F     4    S    2832.0  \n",
       "0019_01            0.0           0.0     0.0     0.0    C     0    S       0.0  \n",
       "0021_01         6652.0           0.0   181.0   585.0    C     1    S    7418.0  \n",
       "0023_01            0.0         635.0     0.0     0.0    F     5    S     645.0  \n",
       "...                ...           ...     ...     ...  ...   ...  ...       ...  \n",
       "9266_02            0.0           0.0     0.0     0.0    G  1496    S       0.0  \n",
       "9269_01          847.0          17.0    10.0   144.0  NaN   NaN  NaN    1018.0  \n",
       "9271_01            0.0           0.0     0.0     0.0    D   296    P       0.0  \n",
       "9273_01         2680.0           0.0     0.0   523.0    D   297    P    3203.0  \n",
       "9277_01            0.0           0.0     0.0     0.0    G  1498    S       0.0  \n",
       "\n",
       "[4277 rows x 14 columns]"
      ]
     },
     "execution_count": 8,
     "metadata": {},
     "output_type": "execute_result"
    }
   ],
   "source": [
    "test_data"
   ]
  },
  {
   "cell_type": "code",
   "execution_count": 9,
   "id": "2236dfe4",
   "metadata": {},
   "outputs": [
    {
     "name": "stderr",
     "output_type": "stream",
     "text": [
      "/Users/sumanth/opt/anaconda3/lib/python3.9/site-packages/seaborn/_decorators.py:36: FutureWarning: Pass the following variables as keyword args: x, y. From version 0.12, the only valid positional argument will be `data`, and passing other arguments without an explicit keyword will result in an error or misinterpretation.\n",
      "  warnings.warn(\n"
     ]
    },
    {
     "data": {
      "image/png": "[encoded data removed]",
      "text/plain": [
       "<Figure size 432x288 with 1 Axes>"
      ]
     },
     "metadata": {
      "needs_background": "light"
     },
     "output_type": "display_data"
    }
   ],
   "source": [
    "sns.barplot(train_data[\"Transported\"],train_data[\"Age\"])\n",
    "plt.title(\"Age vs Transported\")\n",
    "plt.show()"
   ]
  },
  {
   "cell_type": "code",
   "execution_count": 10,
   "id": "6c2f0705",
   "metadata": {
    "scrolled": false
   },
   "outputs": [
    {
     "name": "stderr",
     "output_type": "stream",
     "text": [
      "/Users/sumanth/opt/anaconda3/lib/python3.9/site-packages/seaborn/_decorators.py:36: FutureWarning: Pass the following variable as a keyword arg: x. From version 0.12, the only valid positional argument will be `data`, and passing other arguments without an explicit keyword will result in an error or misinterpretation.\n",
      "  warnings.warn(\n"
     ]
    },
    {
     "data": {
      "image/png": "[encoded data removed]",
      "text/plain": [
       "<Figure size 432x288 with 1 Axes>"
      ]
     },
     "metadata": {
      "needs_background": "light"
     },
     "output_type": "display_data"
    },
    {
     "name": "stderr",
     "output_type": "stream",
     "text": [
      "/Users/sumanth/opt/anaconda3/lib/python3.9/site-packages/seaborn/_decorators.py:36: FutureWarning: Pass the following variable as a keyword arg: x. From version 0.12, the only valid positional argument will be `data`, and passing other arguments without an explicit keyword will result in an error or misinterpretation.\n",
      "  warnings.warn(\n"
     ]
    },
    {
     "data": {
      "image/png": "[encoded data removed]",
      "text/plain": [
       "<Figure size 432x288 with 1 Axes>"
      ]
     },
     "metadata": {
      "needs_background": "light"
     },
     "output_type": "display_data"
    },
    {
     "name": "stderr",
     "output_type": "stream",
     "text": [
      "/Users/sumanth/opt/anaconda3/lib/python3.9/site-packages/seaborn/_decorators.py:36: FutureWarning: Pass the following variable as a keyword arg: x. From version 0.12, the only valid positional argument will be `data`, and passing other arguments without an explicit keyword will result in an error or misinterpretation.\n",
      "  warnings.warn(\n"
     ]
    },
    {
     "data": {
      "image/png": "[encoded data removed]",
      "text/plain": [
       "<Figure size 432x288 with 1 Axes>"
      ]
     },
     "metadata": {
      "needs_background": "light"
     },
     "output_type": "display_data"
    },
    {
     "name": "stderr",
     "output_type": "stream",
     "text": [
      "/Users/sumanth/opt/anaconda3/lib/python3.9/site-packages/seaborn/_decorators.py:36: FutureWarning: Pass the following variable as a keyword arg: x. From version 0.12, the only valid positional argument will be `data`, and passing other arguments without an explicit keyword will result in an error or misinterpretation.\n",
      "  warnings.warn(\n"
     ]
    },
    {
     "data": {
      "image/png": "[encoded data removed]",
      "text/plain": [
       "<Figure size 432x288 with 1 Axes>"
      ]
     },
     "metadata": {
      "needs_background": "light"
     },
     "output_type": "display_data"
    }
   ],
   "source": [
    "# Categorical features\n",
    "cat_feats=['HomePlanet', 'CryoSleep', 'Destination', 'VIP']\n",
    "\n",
    "for col in [cols for cols in cat_feats if cols not in ['Cabin']]:\n",
    "    sns.countplot(col,hue = 'Transported',data = train_data)\n",
    "    plt.title(col)\n",
    "    plt.show()"
   ]
  },
  {
   "cell_type": "code",
   "execution_count": 11,
   "id": "0f497afb",
   "metadata": {
    "execution": {
     "iopub.execute_input": "2022-10-30T14:36:00.002609Z",
     "iopub.status.busy": "2022-10-30T14:36:00.002199Z",
     "iopub.status.idle": "2022-10-30T14:36:00.025538Z",
     "shell.execute_reply": "2022-10-30T14:36:00.023550Z"
    },
    "id": "U4nrKOhx3CiA",
    "outputId": "a0a3a431-1f14-45b9-cdc1-21c20647b7cf",
    "papermill": {
     "duration": 0.04217,
     "end_time": "2022-10-30T14:36:00.028343",
     "exception": false,
     "start_time": "2022-10-30T14:35:59.986173",
     "status": "completed"
    },
    "tags": []
   },
   "outputs": [
    {
     "name": "stdout",
     "output_type": "stream",
     "text": [
      "<class 'pandas.core.frame.DataFrame'>\n",
      "Index: 8693 entries, 0001_01 to 9280_02\n",
      "Data columns (total 15 columns):\n",
      " #   Column        Non-Null Count  Dtype  \n",
      "---  ------        --------------  -----  \n",
      " 0   HomePlanet    8492 non-null   object \n",
      " 1   CryoSleep     8476 non-null   object \n",
      " 2   Destination   8511 non-null   object \n",
      " 3   Age           8514 non-null   float64\n",
      " 4   VIP           8490 non-null   object \n",
      " 5   RoomService   8512 non-null   float64\n",
      " 6   FoodCourt     8510 non-null   float64\n",
      " 7   ShoppingMall  8485 non-null   float64\n",
      " 8   Spa           8510 non-null   float64\n",
      " 9   VRDeck        8505 non-null   float64\n",
      " 10  Transported   8693 non-null   int64  \n",
      " 11  deck          8494 non-null   object \n",
      " 12  num           8494 non-null   object \n",
      " 13  side          8494 non-null   object \n",
      " 14  spending      8693 non-null   float64\n",
      "dtypes: float64(7), int64(1), object(7)\n",
      "memory usage: 1.3+ MB\n"
     ]
    }
   ],
   "source": [
    "train_data.info()"
   ]
  },
  {
   "cell_type": "code",
   "execution_count": 12,
   "id": "53da5a1e",
   "metadata": {
    "execution": {
     "iopub.execute_input": "2022-10-30T14:36:00.089793Z",
     "iopub.status.busy": "2022-10-30T14:36:00.089052Z",
     "iopub.status.idle": "2022-10-30T14:36:00.101895Z",
     "shell.execute_reply": "2022-10-30T14:36:00.100826Z"
    },
    "id": "bNfGIPAo5oGD",
    "outputId": "ea5924a5-1e17-411c-862f-dda16bb1f6ef",
    "papermill": {
     "duration": 0.031471,
     "end_time": "2022-10-30T14:36:00.104335",
     "exception": false,
     "start_time": "2022-10-30T14:36:00.072864",
     "status": "completed"
    },
    "tags": []
   },
   "outputs": [
    {
     "data": {
      "text/plain": [
       "HomePlanet      201\n",
       "CryoSleep       217\n",
       "Destination     182\n",
       "Age             179\n",
       "VIP             203\n",
       "RoomService     181\n",
       "FoodCourt       183\n",
       "ShoppingMall    208\n",
       "Spa             183\n",
       "VRDeck          188\n",
       "Transported       0\n",
       "deck            199\n",
       "num             199\n",
       "side            199\n",
       "spending          0\n",
       "dtype: int64"
      ]
     },
     "execution_count": 12,
     "metadata": {},
     "output_type": "execute_result"
    }
   ],
   "source": [
    "train_data.isna().sum()"
   ]
  },
  {
   "cell_type": "code",
   "execution_count": 13,
   "id": "a61b1275",
   "metadata": {
    "execution": {
     "iopub.execute_input": "2022-10-30T14:36:00.136941Z",
     "iopub.status.busy": "2022-10-30T14:36:00.136541Z",
     "iopub.status.idle": "2022-10-30T14:36:00.148187Z",
     "shell.execute_reply": "2022-10-30T14:36:00.147200Z"
    },
    "id": "eX6BEbj16lW5",
    "outputId": "4924434d-c8ab-4dd4-a679-0f12efd213eb",
    "papermill": {
     "duration": 0.030798,
     "end_time": "2022-10-30T14:36:00.150439",
     "exception": false,
     "start_time": "2022-10-30T14:36:00.119641",
     "status": "completed"
    },
    "tags": []
   },
   "outputs": [
    {
     "data": {
      "text/plain": [
       "HomePlanet       87\n",
       "CryoSleep        93\n",
       "Destination      92\n",
       "Age              91\n",
       "VIP              93\n",
       "RoomService      82\n",
       "FoodCourt       106\n",
       "ShoppingMall     98\n",
       "Spa             101\n",
       "VRDeck           80\n",
       "deck            100\n",
       "num             100\n",
       "side            100\n",
       "spending          0\n",
       "dtype: int64"
      ]
     },
     "execution_count": 13,
     "metadata": {},
     "output_type": "execute_result"
    }
   ],
   "source": [
    "test_data.isna().sum()"
   ]
  },
  {
   "cell_type": "code",
   "execution_count": 14,
   "id": "9b5635c3",
   "metadata": {
    "execution": {
     "iopub.execute_input": "2022-10-30T14:36:00.214808Z",
     "iopub.status.busy": "2022-10-30T14:36:00.214356Z",
     "iopub.status.idle": "2022-10-30T14:36:00.228155Z",
     "shell.execute_reply": "2022-10-30T14:36:00.227084Z"
    },
    "id": "wAH0RhfAAtRE",
    "outputId": "af442ca8-2448-452c-d8bd-838ce61de234",
    "papermill": {
     "duration": 0.033604,
     "end_time": "2022-10-30T14:36:00.230730",
     "exception": false,
     "start_time": "2022-10-30T14:36:00.197126",
     "status": "completed"
    },
    "tags": []
   },
   "outputs": [
    {
     "data": {
      "text/plain": [
       "['CryoSleep',\n",
       " 'ShoppingMall',\n",
       " 'VIP',\n",
       " 'HomePlanet',\n",
       " 'deck',\n",
       " 'num',\n",
       " 'side',\n",
       " 'VRDeck',\n",
       " 'FoodCourt',\n",
       " 'Spa',\n",
       " 'Destination',\n",
       " 'RoomService',\n",
       " 'Age']"
      ]
     },
     "execution_count": 14,
     "metadata": {},
     "output_type": "execute_result"
    }
   ],
   "source": [
    "null_val_col = train_data.isnull().sum().sort_values(ascending=False)\n",
    "null_val_col = list(null_val_col[null_val_col>1].index)\n",
    "null_val_col"
   ]
  },
  {
   "cell_type": "code",
   "execution_count": 15,
   "id": "af3cdd9f",
   "metadata": {
    "execution": {
     "iopub.execute_input": "2022-10-30T14:36:00.383894Z",
     "iopub.status.busy": "2022-10-30T14:36:00.383484Z",
     "iopub.status.idle": "2022-10-30T14:36:00.390251Z",
     "shell.execute_reply": "2022-10-30T14:36:00.389426Z"
    },
    "id": "CqtlJpPTBFsl",
    "outputId": "7eb0d274-8878-4a67-850b-a07cfc3f1589",
    "papermill": {
     "duration": 0.026507,
     "end_time": "2022-10-30T14:36:00.393332",
     "exception": false,
     "start_time": "2022-10-30T14:36:00.366825",
     "status": "completed"
    },
    "tags": []
   },
   "outputs": [
    {
     "name": "stdout",
     "output_type": "stream",
     "text": [
      "Object cols -- ['HomePlanet', 'CryoSleep', 'Destination', 'VIP', 'deck', 'num', 'side']\n",
      "Numeric cols -- ['Age', 'RoomService', 'FoodCourt', 'ShoppingMall', 'Spa', 'VRDeck', 'spending']\n"
     ]
    }
   ],
   "source": [
    "object_val_col = [col for col in train_data.columns if train_data[col].dtype == 'object' or train_data[col].dtype == 'category']\n",
    "numeric = [col for col in train_data.columns if train_data[col].dtype == 'float64']\n",
    "\n",
    "print(f'Object cols -- {object_val_col}')\n",
    "print(f'Numeric cols -- {numeric}')"
   ]
  },
  {
   "cell_type": "code",
   "execution_count": 16,
   "id": "a5f7631f",
   "metadata": {
    "execution": {
     "iopub.execute_input": "2022-10-30T14:36:00.457178Z",
     "iopub.status.busy": "2022-10-30T14:36:00.456184Z",
     "iopub.status.idle": "2022-10-30T14:36:00.490260Z",
     "shell.execute_reply": "2022-10-30T14:36:00.488799Z"
    },
    "id": "w8itmgM4A3_z",
    "papermill": {
     "duration": 0.053551,
     "end_time": "2022-10-30T14:36:00.493110",
     "exception": false,
     "start_time": "2022-10-30T14:36:00.439559",
     "status": "completed"
    },
    "tags": []
   },
   "outputs": [],
   "source": [
    "train_data[object_val_col] = train_data[object_val_col].astype('category')\n",
    "test_data[object_val_col] = test_data[object_val_col].astype('category')"
   ]
  },
  {
   "cell_type": "code",
   "execution_count": 18,
   "id": "37b5ccfa",
   "metadata": {
    "execution": {
     "iopub.execute_input": "2022-10-30T14:36:00.556240Z",
     "iopub.status.busy": "2022-10-30T14:36:00.555808Z",
     "iopub.status.idle": "2022-10-30T14:36:01.734818Z",
     "shell.execute_reply": "2022-10-30T14:36:01.733720Z"
    },
    "id": "f097yL9nA41r",
    "papermill": {
     "duration": 1.198188,
     "end_time": "2022-10-30T14:36:01.737585",
     "exception": false,
     "start_time": "2022-10-30T14:36:00.539397",
     "status": "completed"
    },
    "tags": []
   },
   "outputs": [],
   "source": [
    "oc = OrdinalEncoder()\n",
    "\n",
    "df_for_encode = pd.concat([train_data, test_data])\n",
    "\n",
    "df_for_encode[object_val_col] = df_for_encode[object_val_col].astype('category')\n",
    "\n",
    "df_for_encode[object_val_col] = oc.fit_transform(df_for_encode[object_val_col])\n",
    "\n",
    "del train_data, test_data\n",
    "\n",
    "train = df_for_encode.iloc[:8693, :]\n",
    "test = df_for_encode.iloc[8693: , :]\n",
    "\n",
    "del df_for_encode\n",
    "\n",
    "test.drop('Transported', inplace=True, axis=1)"
   ]
  },
  {
   "cell_type": "code",
   "execution_count": 21,
   "id": "1658978e",
   "metadata": {
    "execution": {
     "iopub.execute_input": "2022-10-30T14:36:01.801189Z",
     "iopub.status.busy": "2022-10-30T14:36:01.800284Z",
     "iopub.status.idle": "2022-10-30T14:36:01.832867Z",
     "shell.execute_reply": "2022-10-30T14:36:01.831628Z"
    },
    "id": "6vGOh-Tljjx7",
    "outputId": "304ce84b-4776-4e31-a1c8-c35db9997bd9",
    "papermill": {
     "duration": 0.051973,
     "end_time": "2022-10-30T14:36:01.835673",
     "exception": false,
     "start_time": "2022-10-30T14:36:01.783700",
     "status": "completed"
    },
    "tags": []
   },
   "outputs": [
    {
     "data": {
      "text/html": [
       "<div>\n",
       "<style scoped>\n",
       "    .dataframe tbody tr th:only-of-type {\n",
       "        vertical-align: middle;\n",
       "    }\n",
       "\n",
       "    .dataframe tbody tr th {\n",
       "        vertical-align: top;\n",
       "    }\n",
       "\n",
       "    .dataframe thead th {\n",
       "        text-align: right;\n",
       "    }\n",
       "</style>\n",
       "<table border=\"1\" class=\"dataframe\">\n",
       "  <thead>\n",
       "    <tr style=\"text-align: right;\">\n",
       "      <th></th>\n",
       "      <th>HomePlanet</th>\n",
       "      <th>CryoSleep</th>\n",
       "      <th>Destination</th>\n",
       "      <th>Age</th>\n",
       "      <th>VIP</th>\n",
       "      <th>RoomService</th>\n",
       "      <th>FoodCourt</th>\n",
       "      <th>ShoppingMall</th>\n",
       "      <th>Spa</th>\n",
       "      <th>VRDeck</th>\n",
       "      <th>deck</th>\n",
       "      <th>num</th>\n",
       "      <th>side</th>\n",
       "      <th>spending</th>\n",
       "    </tr>\n",
       "    <tr>\n",
       "      <th>PassengerId</th>\n",
       "      <th></th>\n",
       "      <th></th>\n",
       "      <th></th>\n",
       "      <th></th>\n",
       "      <th></th>\n",
       "      <th></th>\n",
       "      <th></th>\n",
       "      <th></th>\n",
       "      <th></th>\n",
       "      <th></th>\n",
       "      <th></th>\n",
       "      <th></th>\n",
       "      <th></th>\n",
       "      <th></th>\n",
       "    </tr>\n",
       "  </thead>\n",
       "  <tbody>\n",
       "    <tr>\n",
       "      <th>0013_01</th>\n",
       "      <td>0.0</td>\n",
       "      <td>1.0</td>\n",
       "      <td>2.0</td>\n",
       "      <td>27.0</td>\n",
       "      <td>0.0</td>\n",
       "      <td>0.0</td>\n",
       "      <td>0.0</td>\n",
       "      <td>0.0</td>\n",
       "      <td>0.0</td>\n",
       "      <td>0.0</td>\n",
       "      <td>6.0</td>\n",
       "      <td>1117.0</td>\n",
       "      <td>1.0</td>\n",
       "      <td>0.0</td>\n",
       "    </tr>\n",
       "    <tr>\n",
       "      <th>0018_01</th>\n",
       "      <td>0.0</td>\n",
       "      <td>0.0</td>\n",
       "      <td>2.0</td>\n",
       "      <td>19.0</td>\n",
       "      <td>0.0</td>\n",
       "      <td>0.0</td>\n",
       "      <td>9.0</td>\n",
       "      <td>0.0</td>\n",
       "      <td>2823.0</td>\n",
       "      <td>0.0</td>\n",
       "      <td>5.0</td>\n",
       "      <td>1228.0</td>\n",
       "      <td>1.0</td>\n",
       "      <td>2832.0</td>\n",
       "    </tr>\n",
       "    <tr>\n",
       "      <th>0019_01</th>\n",
       "      <td>1.0</td>\n",
       "      <td>1.0</td>\n",
       "      <td>0.0</td>\n",
       "      <td>31.0</td>\n",
       "      <td>0.0</td>\n",
       "      <td>0.0</td>\n",
       "      <td>0.0</td>\n",
       "      <td>0.0</td>\n",
       "      <td>0.0</td>\n",
       "      <td>0.0</td>\n",
       "      <td>2.0</td>\n",
       "      <td>0.0</td>\n",
       "      <td>1.0</td>\n",
       "      <td>0.0</td>\n",
       "    </tr>\n",
       "    <tr>\n",
       "      <th>0021_01</th>\n",
       "      <td>1.0</td>\n",
       "      <td>0.0</td>\n",
       "      <td>2.0</td>\n",
       "      <td>38.0</td>\n",
       "      <td>0.0</td>\n",
       "      <td>0.0</td>\n",
       "      <td>6652.0</td>\n",
       "      <td>0.0</td>\n",
       "      <td>181.0</td>\n",
       "      <td>585.0</td>\n",
       "      <td>2.0</td>\n",
       "      <td>1.0</td>\n",
       "      <td>1.0</td>\n",
       "      <td>7418.0</td>\n",
       "    </tr>\n",
       "    <tr>\n",
       "      <th>0023_01</th>\n",
       "      <td>0.0</td>\n",
       "      <td>0.0</td>\n",
       "      <td>2.0</td>\n",
       "      <td>20.0</td>\n",
       "      <td>0.0</td>\n",
       "      <td>10.0</td>\n",
       "      <td>0.0</td>\n",
       "      <td>635.0</td>\n",
       "      <td>0.0</td>\n",
       "      <td>0.0</td>\n",
       "      <td>5.0</td>\n",
       "      <td>1339.0</td>\n",
       "      <td>1.0</td>\n",
       "      <td>645.0</td>\n",
       "    </tr>\n",
       "    <tr>\n",
       "      <th>...</th>\n",
       "      <td>...</td>\n",
       "      <td>...</td>\n",
       "      <td>...</td>\n",
       "      <td>...</td>\n",
       "      <td>...</td>\n",
       "      <td>...</td>\n",
       "      <td>...</td>\n",
       "      <td>...</td>\n",
       "      <td>...</td>\n",
       "      <td>...</td>\n",
       "      <td>...</td>\n",
       "      <td>...</td>\n",
       "      <td>...</td>\n",
       "      <td>...</td>\n",
       "    </tr>\n",
       "    <tr>\n",
       "      <th>9266_02</th>\n",
       "      <td>0.0</td>\n",
       "      <td>1.0</td>\n",
       "      <td>2.0</td>\n",
       "      <td>34.0</td>\n",
       "      <td>0.0</td>\n",
       "      <td>0.0</td>\n",
       "      <td>0.0</td>\n",
       "      <td>0.0</td>\n",
       "      <td>0.0</td>\n",
       "      <td>0.0</td>\n",
       "      <td>6.0</td>\n",
       "      <td>553.0</td>\n",
       "      <td>1.0</td>\n",
       "      <td>0.0</td>\n",
       "    </tr>\n",
       "    <tr>\n",
       "      <th>9269_01</th>\n",
       "      <td>0.0</td>\n",
       "      <td>0.0</td>\n",
       "      <td>2.0</td>\n",
       "      <td>42.0</td>\n",
       "      <td>0.0</td>\n",
       "      <td>0.0</td>\n",
       "      <td>847.0</td>\n",
       "      <td>17.0</td>\n",
       "      <td>10.0</td>\n",
       "      <td>144.0</td>\n",
       "      <td>NaN</td>\n",
       "      <td>NaN</td>\n",
       "      <td>NaN</td>\n",
       "      <td>1018.0</td>\n",
       "    </tr>\n",
       "    <tr>\n",
       "      <th>9271_01</th>\n",
       "      <td>2.0</td>\n",
       "      <td>1.0</td>\n",
       "      <td>0.0</td>\n",
       "      <td>NaN</td>\n",
       "      <td>0.0</td>\n",
       "      <td>0.0</td>\n",
       "      <td>0.0</td>\n",
       "      <td>0.0</td>\n",
       "      <td>0.0</td>\n",
       "      <td>0.0</td>\n",
       "      <td>3.0</td>\n",
       "      <td>1113.0</td>\n",
       "      <td>0.0</td>\n",
       "      <td>0.0</td>\n",
       "    </tr>\n",
       "    <tr>\n",
       "      <th>9273_01</th>\n",
       "      <td>1.0</td>\n",
       "      <td>0.0</td>\n",
       "      <td>NaN</td>\n",
       "      <td>NaN</td>\n",
       "      <td>0.0</td>\n",
       "      <td>0.0</td>\n",
       "      <td>2680.0</td>\n",
       "      <td>0.0</td>\n",
       "      <td>0.0</td>\n",
       "      <td>523.0</td>\n",
       "      <td>3.0</td>\n",
       "      <td>1114.0</td>\n",
       "      <td>0.0</td>\n",
       "      <td>3203.0</td>\n",
       "    </tr>\n",
       "    <tr>\n",
       "      <th>9277_01</th>\n",
       "      <td>0.0</td>\n",
       "      <td>1.0</td>\n",
       "      <td>1.0</td>\n",
       "      <td>43.0</td>\n",
       "      <td>0.0</td>\n",
       "      <td>0.0</td>\n",
       "      <td>0.0</td>\n",
       "      <td>0.0</td>\n",
       "      <td>0.0</td>\n",
       "      <td>0.0</td>\n",
       "      <td>6.0</td>\n",
       "      <td>555.0</td>\n",
       "      <td>1.0</td>\n",
       "      <td>0.0</td>\n",
       "    </tr>\n",
       "  </tbody>\n",
       "</table>\n",
       "<p>4277 rows × 14 columns</p>\n",
       "</div>"
      ],
      "text/plain": [
       "             HomePlanet  CryoSleep  Destination   Age  VIP  RoomService  \\\n",
       "PassengerId                                                               \n",
       "0013_01             0.0        1.0          2.0  27.0  0.0          0.0   \n",
       "0018_01             0.0        0.0          2.0  19.0  0.0          0.0   \n",
       "0019_01             1.0        1.0          0.0  31.0  0.0          0.0   \n",
       "0021_01             1.0        0.0          2.0  38.0  0.0          0.0   \n",
       "0023_01             0.0        0.0          2.0  20.0  0.0         10.0   \n",
       "...                 ...        ...          ...   ...  ...          ...   \n",
       "9266_02             0.0        1.0          2.0  34.0  0.0          0.0   \n",
       "9269_01             0.0        0.0          2.0  42.0  0.0          0.0   \n",
       "9271_01             2.0        1.0          0.0   NaN  0.0          0.0   \n",
       "9273_01             1.0        0.0          NaN   NaN  0.0          0.0   \n",
       "9277_01             0.0        1.0          1.0  43.0  0.0          0.0   \n",
       "\n",
       "             FoodCourt  ShoppingMall     Spa  VRDeck  deck     num  side  \\\n",
       "PassengerId                                                                \n",
       "0013_01            0.0           0.0     0.0     0.0   6.0  1117.0   1.0   \n",
       "0018_01            9.0           0.0  2823.0     0.0   5.0  1228.0   1.0   \n",
       "0019_01            0.0           0.0     0.0     0.0   2.0     0.0   1.0   \n",
       "0021_01         6652.0           0.0   181.0   585.0   2.0     1.0   1.0   \n",
       "0023_01            0.0         635.0     0.0     0.0   5.0  1339.0   1.0   \n",
       "...                ...           ...     ...     ...   ...     ...   ...   \n",
       "9266_02            0.0           0.0     0.0     0.0   6.0   553.0   1.0   \n",
       "9269_01          847.0          17.0    10.0   144.0   NaN     NaN   NaN   \n",
       "9271_01            0.0           0.0     0.0     0.0   3.0  1113.0   0.0   \n",
       "9273_01         2680.0           0.0     0.0   523.0   3.0  1114.0   0.0   \n",
       "9277_01            0.0           0.0     0.0     0.0   6.0   555.0   1.0   \n",
       "\n",
       "             spending  \n",
       "PassengerId            \n",
       "0013_01           0.0  \n",
       "0018_01        2832.0  \n",
       "0019_01           0.0  \n",
       "0021_01        7418.0  \n",
       "0023_01         645.0  \n",
       "...               ...  \n",
       "9266_02           0.0  \n",
       "9269_01        1018.0  \n",
       "9271_01           0.0  \n",
       "9273_01        3203.0  \n",
       "9277_01           0.0  \n",
       "\n",
       "[4277 rows x 14 columns]"
      ]
     },
     "execution_count": 21,
     "metadata": {},
     "output_type": "execute_result"
    }
   ],
   "source": [
    "test\n"
   ]
  },
  {
   "cell_type": "code",
   "execution_count": 23,
   "id": "a88feaa9",
   "metadata": {
    "execution": {
     "iopub.execute_input": "2022-10-30T14:36:01.931272Z",
     "iopub.status.busy": "2022-10-30T14:36:01.930833Z",
     "iopub.status.idle": "2022-10-30T14:36:02.150718Z",
     "shell.execute_reply": "2022-10-30T14:36:02.149626Z"
    },
    "id": "sE5_-uGjBSUv",
    "papermill": {
     "duration": 0.239649,
     "end_time": "2022-10-30T14:36:02.153646",
     "exception": false,
     "start_time": "2022-10-30T14:36:01.913997",
     "status": "completed"
    },
    "tags": []
   },
   "outputs": [],
   "source": [
    "ct = ColumnTransformer([(\"imp\", SimpleImputer(strategy='mean'), null_val_col)])\n",
    "    \n",
    "train[null_val_col] = ct.fit_transform(train[null_val_col])\n",
    "test[null_val_col] = ct.fit_transform(test[null_val_col])"
   ]
  },
  {
   "cell_type": "code",
   "execution_count": 24,
   "id": "b7c0208c",
   "metadata": {
    "execution": {
     "iopub.execute_input": "2022-10-30T14:36:02.249531Z",
     "iopub.status.busy": "2022-10-30T14:36:02.248628Z",
     "iopub.status.idle": "2022-10-30T14:36:02.260473Z",
     "shell.execute_reply": "2022-10-30T14:36:02.259512Z"
    },
    "id": "CwcYk73XA44f",
    "papermill": {
     "duration": 0.031309,
     "end_time": "2022-10-30T14:36:02.262951",
     "exception": false,
     "start_time": "2022-10-30T14:36:02.231642",
     "status": "completed"
    },
    "tags": []
   },
   "outputs": [],
   "source": [
    "X = train.copy()\n",
    "y = X.pop('Transported')\n",
    "\n",
    "from sklearn.model_selection import cross_val_score, train_test_split, GridSearchCV\n",
    "X_train, X_test, y_train, y_test = train_test_split(X, y, random_state=23)"
   ]
  },
  {
   "cell_type": "code",
   "execution_count": 25,
   "id": "5cb710a0",
   "metadata": {},
   "outputs": [
    {
     "data": {
      "text/plain": [
       "99.97"
      ]
     },
     "execution_count": 25,
     "metadata": {},
     "output_type": "execute_result"
    }
   ],
   "source": [
    "model = RandomForestClassifier()\n",
    "model.fit(X_train , y_train)\n",
    "predict = model.predict(X_test)\n",
    "acc_rf = round(model.score(X_train, y_train) * 100, 2)\n",
    "acc_rf"
   ]
  },
  {
   "cell_type": "code",
   "execution_count": 26,
   "id": "2b001d9a",
   "metadata": {},
   "outputs": [
    {
     "name": "stdout",
     "output_type": "stream",
     "text": [
      "The accuracy score of RandomForestClassifier() is 0.8012879484820608\n"
     ]
    }
   ],
   "source": [
    "print(f'The accuracy score of {str(model)} is {float(accuracy_score(y_test, predict))}')        "
   ]
  },
  {
   "cell_type": "code",
   "execution_count": 27,
   "id": "f1c900d5",
   "metadata": {},
   "outputs": [
    {
     "data": {
      "text/plain": [
       "79.43"
      ]
     },
     "execution_count": 27,
     "metadata": {},
     "output_type": "execute_result"
    }
   ],
   "source": [
    "model = AdaBoostClassifier()\n",
    "model.fit(X_train , y_train)\n",
    "predict = model.predict(X_test)\n",
    "acc_ada = round(model.score(X_train, y_train) * 100, 2)\n",
    "acc_ada"
   ]
  },
  {
   "cell_type": "code",
   "execution_count": 28,
   "id": "0d3f7205",
   "metadata": {},
   "outputs": [
    {
     "name": "stdout",
     "output_type": "stream",
     "text": [
      "The accuracy score of AdaBoostClassifier() is 0.7980680772769089\n"
     ]
    }
   ],
   "source": [
    "print(f'The accuracy score of {str(model)} is {float(accuracy_score(y_test, predict))}')        "
   ]
  },
  {
   "cell_type": "code",
   "execution_count": 29,
   "id": "320d8dec",
   "metadata": {},
   "outputs": [
    {
     "data": {
      "text/plain": [
       "94.16"
      ]
     },
     "execution_count": 29,
     "metadata": {},
     "output_type": "execute_result"
    }
   ],
   "source": [
    "model = XGBClassifier()\n",
    "model.fit(X_train , y_train)\n",
    "predict = model.predict(X_test)\n",
    "acc_xgb = round(model.score(X_train, y_train) * 100, 2)\n",
    "acc_xgb"
   ]
  },
  {
   "cell_type": "code",
   "execution_count": 30,
   "id": "d8cf92a4",
   "metadata": {},
   "outputs": [
    {
     "name": "stdout",
     "output_type": "stream",
     "text": [
      "The accuracy score of XGBClassifier(base_score=0.5, booster='gbtree', callbacks=None,\n",
      "              colsample_bylevel=1, colsample_bynode=1, colsample_bytree=1,\n",
      "              early_stopping_rounds=None, enable_categorical=False,\n",
      "              eval_metric=None, gamma=0, gpu_id=-1, grow_policy='depthwise',\n",
      "              importance_type=None, interaction_constraints='',\n",
      "              learning_rate=0.300000012, max_bin=256, max_cat_to_onehot=4,\n",
      "              max_delta_step=0, max_depth=6, max_leaves=0, min_child_weight=1,\n",
      "              missing=nan, monotone_constraints='()', n_estimators=100,\n",
      "              n_jobs=0, num_parallel_tree=1, predictor='auto', random_state=0,\n",
      "              reg_alpha=0, reg_lambda=1, ...) is 0.7948482060717571\n"
     ]
    }
   ],
   "source": [
    "print(f'The accuracy score of {str(model)} is {float(accuracy_score(y_test, predict))}')        "
   ]
  },
  {
   "cell_type": "code",
   "execution_count": 31,
   "id": "ad7f4ff1",
   "metadata": {},
   "outputs": [
    {
     "data": {
      "text/plain": [
       "88.46"
      ]
     },
     "execution_count": 31,
     "metadata": {},
     "output_type": "execute_result"
    }
   ],
   "source": [
    "model = CatBoostClassifier(verbose=False)\n",
    "model.fit(X_train, y_train)\n",
    "predict = model.predict(X_test)\n",
    "acc_cat_boost = round(model.score(X_train, y_train) * 100, 2)\n",
    "acc_cat_boost"
   ]
  },
  {
   "cell_type": "code",
   "execution_count": 32,
   "id": "804adf0e",
   "metadata": {},
   "outputs": [
    {
     "name": "stdout",
     "output_type": "stream",
     "text": [
      "The accuracy score of <catboost.core.CatBoostClassifier object at 0x7fead170d580> is 0.8054277828886844\n"
     ]
    }
   ],
   "source": [
    "print(f'The accuracy score of {str(model)} is {float(accuracy_score(y_test, predict))}')        "
   ]
  },
  {
   "cell_type": "code",
   "execution_count": 33,
   "id": "03808b78",
   "metadata": {
    "execution": {
     "iopub.execute_input": "2022-10-30T14:36:49.346268Z",
     "iopub.status.busy": "2022-10-30T14:36:49.345791Z",
     "iopub.status.idle": "2022-10-30T15:03:00.948846Z",
     "shell.execute_reply": "2022-10-30T15:03:00.947737Z"
    },
    "papermill": {
     "duration": 1571.642096,
     "end_time": "2022-10-30T15:03:00.968643",
     "exception": false,
     "start_time": "2022-10-30T14:36:49.326547",
     "status": "completed"
    },
    "tags": []
   },
   "outputs": [
    {
     "data": {
      "text/plain": [
       "SequentialFeatureSelector(direction='backward',\n",
       "                          estimator=<catboost.core.CatBoostClassifier object at 0x7fead1caa160>,\n",
       "                          scoring='accuracy')"
      ]
     },
     "execution_count": 33,
     "metadata": {},
     "output_type": "execute_result"
    }
   ],
   "source": [
    "model_fs = CatBoostClassifier(verbose=False)\n",
    "sf = SequentialFeatureSelector(model_fs, scoring='accuracy', direction = 'backward')\n",
    "sf.fit(X,y)"
   ]
  },
  {
   "cell_type": "code",
   "execution_count": 34,
   "id": "7ca9b371",
   "metadata": {
    "execution": {
     "iopub.execute_input": "2022-10-30T15:03:01.067056Z",
     "iopub.status.busy": "2022-10-30T15:03:01.066092Z",
     "iopub.status.idle": "2022-10-30T15:03:01.073961Z",
     "shell.execute_reply": "2022-10-30T15:03:01.072713Z"
    },
    "id": "B8khvaJUB4qt",
    "outputId": "d4b72559-46b6-4bbf-87d2-4bebd65626fe",
    "papermill": {
     "duration": 0.027598,
     "end_time": "2022-10-30T15:03:01.076321",
     "exception": false,
     "start_time": "2022-10-30T15:03:01.048723",
     "status": "completed"
    },
    "tags": []
   },
   "outputs": [
    {
     "data": {
      "text/plain": [
       "['CryoSleep', 'RoomService', 'Spa', 'VRDeck', 'deck', 'side', 'spending']"
      ]
     },
     "execution_count": 34,
     "metadata": {},
     "output_type": "execute_result"
    }
   ],
   "source": [
    "best_features = list(sf.get_feature_names_out())\n",
    "best_features"
   ]
  },
  {
   "cell_type": "code",
   "execution_count": 35,
   "id": "6f4afee6",
   "metadata": {},
   "outputs": [],
   "source": [
    "model = CatBoostClassifier(verbose=False, eval_metric='Accuracy')\n",
    "model.fit(X[best_features], y)\n",
    "prediction = model.predict(test[best_features])"
   ]
  },
  {
   "cell_type": "code",
   "execution_count": 36,
   "id": "f5bea525",
   "metadata": {
    "execution": {
     "iopub.execute_input": "2022-10-30T15:03:05.613934Z",
     "iopub.status.busy": "2022-10-30T15:03:05.613519Z",
     "iopub.status.idle": "2022-10-30T15:03:05.632358Z",
     "shell.execute_reply": "2022-10-30T15:03:05.631228Z"
    },
    "id": "gK1iEfENCCiN",
    "outputId": "d8bf603d-a0de-4410-c3be-e1f18edf9ab9",
    "papermill": {
     "duration": 0.039173,
     "end_time": "2022-10-30T15:03:05.634940",
     "exception": false,
     "start_time": "2022-10-30T15:03:05.595767",
     "status": "completed"
    },
    "tags": []
   },
   "outputs": [
    {
     "data": {
      "text/html": [
       "<div>\n",
       "<style scoped>\n",
       "    .dataframe tbody tr th:only-of-type {\n",
       "        vertical-align: middle;\n",
       "    }\n",
       "\n",
       "    .dataframe tbody tr th {\n",
       "        vertical-align: top;\n",
       "    }\n",
       "\n",
       "    .dataframe thead th {\n",
       "        text-align: right;\n",
       "    }\n",
       "</style>\n",
       "<table border=\"1\" class=\"dataframe\">\n",
       "  <thead>\n",
       "    <tr style=\"text-align: right;\">\n",
       "      <th></th>\n",
       "      <th>Transported</th>\n",
       "    </tr>\n",
       "    <tr>\n",
       "      <th>PassengerId</th>\n",
       "      <th></th>\n",
       "    </tr>\n",
       "  </thead>\n",
       "  <tbody>\n",
       "    <tr>\n",
       "      <th>0013_01</th>\n",
       "      <td>True</td>\n",
       "    </tr>\n",
       "    <tr>\n",
       "      <th>0018_01</th>\n",
       "      <td>False</td>\n",
       "    </tr>\n",
       "    <tr>\n",
       "      <th>0019_01</th>\n",
       "      <td>True</td>\n",
       "    </tr>\n",
       "    <tr>\n",
       "      <th>0021_01</th>\n",
       "      <td>True</td>\n",
       "    </tr>\n",
       "    <tr>\n",
       "      <th>0023_01</th>\n",
       "      <td>True</td>\n",
       "    </tr>\n",
       "    <tr>\n",
       "      <th>...</th>\n",
       "      <td>...</td>\n",
       "    </tr>\n",
       "    <tr>\n",
       "      <th>9266_02</th>\n",
       "      <td>True</td>\n",
       "    </tr>\n",
       "    <tr>\n",
       "      <th>9269_01</th>\n",
       "      <td>False</td>\n",
       "    </tr>\n",
       "    <tr>\n",
       "      <th>9271_01</th>\n",
       "      <td>True</td>\n",
       "    </tr>\n",
       "    <tr>\n",
       "      <th>9273_01</th>\n",
       "      <td>True</td>\n",
       "    </tr>\n",
       "    <tr>\n",
       "      <th>9277_01</th>\n",
       "      <td>True</td>\n",
       "    </tr>\n",
       "  </tbody>\n",
       "</table>\n",
       "<p>4277 rows × 1 columns</p>\n",
       "</div>"
      ],
      "text/plain": [
       "             Transported\n",
       "PassengerId             \n",
       "0013_01             True\n",
       "0018_01            False\n",
       "0019_01             True\n",
       "0021_01             True\n",
       "0023_01             True\n",
       "...                  ...\n",
       "9266_02             True\n",
       "9269_01            False\n",
       "9271_01             True\n",
       "9273_01             True\n",
       "9277_01             True\n",
       "\n",
       "[4277 rows x 1 columns]"
      ]
     },
     "execution_count": 36,
     "metadata": {},
     "output_type": "execute_result"
    }
   ],
   "source": [
    "final = pd.DataFrame()\n",
    "final.index = test.index\n",
    "final['Transported'] = prediction\n",
    "final['Transported'].replace(0, False, inplace=True)\n",
    "final['Transported'].replace(1, True, inplace=True)\n",
    "final"
   ]
  },
  {
   "cell_type": "code",
   "execution_count": 37,
   "id": "8bae2e0b",
   "metadata": {
    "execution": {
     "iopub.execute_input": "2022-10-30T15:03:05.702870Z",
     "iopub.status.busy": "2022-10-30T15:03:05.702271Z",
     "iopub.status.idle": "2022-10-30T15:03:05.712403Z",
     "shell.execute_reply": "2022-10-30T15:03:05.711506Z"
    },
    "id": "EFSCYseLeUxI",
    "papermill": {
     "duration": 0.030501,
     "end_time": "2022-10-30T15:03:05.714925",
     "exception": false,
     "start_time": "2022-10-30T15:03:05.684424",
     "status": "completed"
    },
    "tags": []
   },
   "outputs": [],
   "source": [
    "final.to_csv('submission.csv')"
   ]
  },
  {
   "cell_type": "code",
   "execution_count": null,
   "id": "1a7254fc",
   "metadata": {},
   "outputs": [],
   "source": []
  }
 ],
 "metadata": {
  "kernelspec": {
   "display_name": "Python 3 (ipykernel)",
   "language": "python",
   "name": "python3"
  },
  "language_info": {
   "codemirror_mode": {
    "name": "ipython",
    "version": 3
   },
   "file_extension": ".py",
   "mimetype": "text/x-python",
   "name": "python",
   "nbconvert_exporter": "python",
   "pygments_lexer": "ipython3",
   "version": "3.9.12"
  },
  "papermill": {
   "default_parameters": {},
   "duration": 1636.745701,
   "end_time": "2022-10-30T15:03:06.654133",
   "environment_variables": {},
   "exception": null,
   "input_path": "__notebook__.ipynb",
   "output_path": "__notebook__.ipynb",
   "parameters": {},
   "start_time": "2022-10-30T14:35:49.908432",
   "version": "2.3.4"
  }
 },
 "nbformat": 4,
 "nbformat_minor": 5
}
